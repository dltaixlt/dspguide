{
 "cells": [
  {
   "cell_type": "markdown",
   "metadata": {},
   "source": [
    "## 统计，概率和噪声"
   ]
  },
  {
   "cell_type": "markdown",
   "metadata": {},
   "source": [
    "__信号__ 用于描述一个参数和另一个参数之间的关系。  \n",
    "__连续信号__ 描述两个数值连续参数之间的关系。  \n",
    "__离散信号/数字信号__ 对连续信号两个参数的采样。\n",
    "信号二维图形表示中，两个参数的对应称呼：  \n",
    "* vertical axis -- horizontal axis\n",
    "* amplitude    -- sample number\n",
    "* y-axis         -- x-axis\n",
    "* dependent variable -- independent variable\n",
    "* range          -- domain\n",
    "* ordinate      -- abscissa"
   ]
  },
  {
   "cell_type": "code",
   "execution_count": null,
   "metadata": {},
   "outputs": [],
   "source": []
  }
 ],
 "metadata": {
  "kernelspec": {
   "display_name": "Python 3",
   "language": "python",
   "name": "python3"
  },
  "language_info": {
   "codemirror_mode": {
    "name": "ipython",
    "version": 3
   },
   "file_extension": ".py",
   "mimetype": "text/x-python",
   "name": "python",
   "nbconvert_exporter": "python",
   "pygments_lexer": "ipython3",
   "version": "3.7.0"
  }
 },
 "nbformat": 4,
 "nbformat_minor": 2
}
